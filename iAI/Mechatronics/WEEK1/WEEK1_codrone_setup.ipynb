{
 "cells": [
  {
   "cell_type": "markdown",
   "metadata": {},
   "source": [
    "<br>\n",
    "<font size='6'><b>Codrone Setup</b></font><br><br>\n",
    "\n",
    "<table style=\"border-style: hidden; border-collapse: collapse;\" width = \"80%\"> \n",
    "    <tr style=\"border-style: hidden; border-collapse: collapse;\">\n",
    "        <td width = 50% style=\"border-style: hidden; border-collapse: collapse;\">\n",
    "\n",
    "        </td>\n",
    "        <td width = 20%>\n",
    "        Collected by Seungchul Lee<br>iAI Lab<br>http://iai.postech.ac.kr<br>POSTECH\n",
    "        </td>\n",
    "    </tr>\n",
    "</table>\n",
    "\n",
    "\n",
    "Table of Contents\n",
    "<div id=\"toc\"></div>\n"
   ]
  },
  {
   "cell_type": "markdown",
   "metadata": {},
   "source": [
    "# 0. Today's Lesson\n",
    "\n",
    "\n",
    "- Course Overview\n",
    "    - Drone Project\n",
    "    - Mobile Robot Project\n",
    "\n",
    "- Drone Control Project\n",
    "    - Mission\n",
    "    - Video\n",
    "\n",
    "- Mobile Robot Project\n",
    "    - Mission\n",
    "    - Video\n",
    "\n",
    "- Program Setup\n",
    "    - Python 3.5.2 Install\n",
    "    - Library Install\n",
    "    \n",
    "- Python Basic Coding\n",
    "    - Basic Operator\n",
    "    - If Statement\n",
    "    - For Statement\n",
    "    \n",
    "- __You don't need to submit any files on today's class.__"
   ]
  },
  {
   "cell_type": "markdown",
   "metadata": {},
   "source": [
    "# 1. Course Overview\n",
    " - To provide freshmen a chance to experience system design through mechatronics practice of drone and mobile robot project.\n",
    " \n",
    " \n",
    " - Drone project (semi-project)\n",
    "    - Understand drones' flight principles\n",
    "    - Use Python to control drones\n",
    "    - Perform simple missions using Python coding\n",
    "\n",
    "\n",
    " - Mobile robot project (final-term project)\n",
    "    - Understand the theory of sensors and communication methods\n",
    "    - Combine software and hardware to create a single system"
   ]
  },
  {
   "cell_type": "markdown",
   "metadata": {},
   "source": [
    "# 2. Drone Control Project\n",
    " - Codrone Specification\n",
    "<img src=\"./image_files/Drone.png\" width=\"400\">"
   ]
  },
  {
   "cell_type": "markdown",
   "metadata": {},
   "source": [
    " - Basics for quadcopter movement\n",
    "    - Principles of driving method and concept of hovering\n",
    "<img src=\"./image_files/Drone1.png\">\n"
   ]
  },
  {
   "cell_type": "markdown",
   "metadata": {},
   "source": [
    " - Tentative mission\n",
    "    - Assume a disaster situation\n",
    "    - Control their drone to pass through obstacles, burst a balloon in a fire building, and return to land at a designated landing point\n",
    "<img src=\"./image_files/Drone3.png\">\n"
   ]
  },
  {
   "cell_type": "markdown",
   "metadata": {},
   "source": [
    " - Drone Control Project(Video)\n",
    "\n",
    "<video controls src=\"./image_files/Drone.mp4\" />\n"
   ]
  },
  {
   "cell_type": "markdown",
   "metadata": {},
   "source": [
    "# 3. Mobile Robot Project\n",
    " - Mobile Robot Specification\n",
    "    - Car design is the responsibility of students\n",
    "\n",
    "<img src=\"./image_files/Car1.png\">\n",
    "<img src=\"./image_files/Car2.png\">\n"
   ]
  },
  {
   "cell_type": "markdown",
   "metadata": {},
   "source": [
    " - Time Attack Mission  \n",
    " \n",
    " \n",
    "<img src=\"./image_files/Car4.jpg\">\n"
   ]
  },
  {
   "cell_type": "markdown",
   "metadata": {},
   "source": [
    " - Mobile Robot Project(Video)\n",
    " \n",
    " \n",
    "<video controls src=\"./image_files/Mobil.mp4\" />\n"
   ]
  },
  {
   "cell_type": "markdown",
   "metadata": {},
   "source": [
    "# 4. Program Setup\n",
    "__[1]__ Python 3.5.2 installer download\n",
    "<img src=\"./image_files/Picture2.jpg\" width=\"700\" >"
   ]
  },
  {
   "cell_type": "markdown",
   "metadata": {},
   "source": [
    "__[2]__ Run the installer\n",
    " - You must add Python 3.5 to PATH\n",
    "  <img src='./image_files/Picture1.jpg' width=\"650\">"
   ]
  },
  {
   "cell_type": "markdown",
   "metadata": {},
   "source": [
    "__[3]__ Make sure the installation is good\n",
    " - Type \"python\" in the Windows Command Prompt\n",
    " <img src=\"./image_files/Picture3.png\" width=\"500\">"
   ]
  },
  {
   "cell_type": "markdown",
   "metadata": {},
   "source": [
    "__[4]__ Jupyter notebook & CoDrone installation\n",
    " - Type \"pip install jupyter CoDrone\" in the Windows Command Prompt\n",
    " <img src=\"./image_files/Picture4.png\">"
   ]
  },
  {
   "cell_type": "markdown",
   "metadata": {},
   "source": [
    "__[5]__ Running Jupyter notebook\n",
    "- Type 'Jupyter notebook' in folder's domain  \n",
    "<img src=\"./image_files/setup_val_01.png\">"
   ]
  },
  {
   "cell_type": "markdown",
   "metadata": {},
   "source": [
    "__[6]__ Create Jupyter notebook\n",
    "- Click 'New'\n",
    "- Select 'Python 3' \n",
    "<img src=\"./image_files/setup_val_02.png\">"
   ]
  },
  {
   "cell_type": "markdown",
   "metadata": {},
   "source": [
    "# 5. Python Basic Coding\n",
    "__[1]__ Variable"
   ]
  },
  {
   "cell_type": "code",
   "execution_count": 5,
   "metadata": {},
   "outputs": [],
   "source": [
    "x = 3 \n",
    "y = 3.14\n",
    "greet = \"Hello World\""
   ]
  },
  {
   "cell_type": "markdown",
   "metadata": {},
   "source": [
    "__[2]__ Print"
   ]
  },
  {
   "cell_type": "code",
   "execution_count": 8,
   "metadata": {},
   "outputs": [
    {
     "name": "stdout",
     "output_type": "stream",
     "text": [
      "안녕하세요\n",
      "Hello World\n"
     ]
    }
   ],
   "source": [
    "print(\"안녕하세요\")\n",
    "print(greet)"
   ]
  },
  {
   "cell_type": "markdown",
   "metadata": {},
   "source": [
    "__[3]__ Basic Operator\n",
    " - Python Arithmetic Operators\n",
    " <img src=\"./image_files/산술연산자.jpg\" width=\"450\">"
   ]
  },
  {
   "cell_type": "markdown",
   "metadata": {},
   "source": [
    " - Python Comparison Operators\n",
    "  <img src=\"./image_files/비교연산자.jpg\" width=\"450\">"
   ]
  },
  {
   "cell_type": "markdown",
   "metadata": {},
   "source": [
    " - Python Logical Operators\n",
    "  <img src=\"./image_files/논리연산자.jpg\" width=\"450\">"
   ]
  },
  {
   "cell_type": "code",
   "execution_count": 14,
   "metadata": {},
   "outputs": [
    {
     "data": {
      "text/plain": [
       "6.140000000000001"
      ]
     },
     "execution_count": 14,
     "metadata": {},
     "output_type": "execute_result"
    }
   ],
   "source": [
    "x + y "
   ]
  },
  {
   "cell_type": "code",
   "execution_count": 10,
   "metadata": {},
   "outputs": [
    {
     "data": {
      "text/plain": [
       "True"
      ]
     },
     "execution_count": 10,
     "metadata": {},
     "output_type": "execute_result"
    }
   ],
   "source": [
    "x < y"
   ]
  },
  {
   "cell_type": "code",
   "execution_count": 13,
   "metadata": {},
   "outputs": [
    {
     "data": {
      "text/plain": [
       "False"
      ]
     },
     "execution_count": 13,
     "metadata": {},
     "output_type": "execute_result"
    }
   ],
   "source": [
    "x == y"
   ]
  },
  {
   "cell_type": "code",
   "execution_count": 15,
   "metadata": {},
   "outputs": [
    {
     "data": {
      "text/plain": [
       "True"
      ]
     },
     "execution_count": 15,
     "metadata": {},
     "output_type": "execute_result"
    }
   ],
   "source": [
    "x < y or x > y"
   ]
  },
  {
   "cell_type": "markdown",
   "metadata": {},
   "source": [
    "__[4]__ If statement"
   ]
  },
  {
   "cell_type": "code",
   "execution_count": 19,
   "metadata": {},
   "outputs": [
    {
     "name": "stdout",
     "output_type": "stream",
     "text": [
      "y가 x보다 큽니다.\n"
     ]
    }
   ],
   "source": [
    "if x < y :\n",
    "    print(\"y가 x보다 큽니다.\")"
   ]
  },
  {
   "cell_type": "code",
   "execution_count": 20,
   "metadata": {},
   "outputs": [
    {
     "name": "stdout",
     "output_type": "stream",
     "text": [
      "y가 x보다 큽니다.\n"
     ]
    }
   ],
   "source": [
    "if x < y :\n",
    "    print(\"y가 x보다 큽니다.\")\n",
    "else :\n",
    "    print(\"x가 y보다 큽니다.\")"
   ]
  },
  {
   "cell_type": "markdown",
   "metadata": {},
   "source": [
    "__[5]__ For statement"
   ]
  },
  {
   "cell_type": "code",
   "execution_count": 21,
   "metadata": {},
   "outputs": [
    {
     "name": "stdout",
     "output_type": "stream",
     "text": [
      "0\n",
      "1\n",
      "2\n",
      "3\n",
      "4\n",
      "5\n",
      "6\n",
      "7\n",
      "8\n",
      "9\n"
     ]
    }
   ],
   "source": [
    "for i in range(10):\n",
    "    print(i)"
   ]
  },
  {
   "cell_type": "code",
   "execution_count": 22,
   "metadata": {},
   "outputs": [
    {
     "data": {
      "application/javascript": [
       "\n",
       "$.getScript('https://kmahelona.github.io/ipython_notebook_goodies/ipython_notebook_toc.js')\n"
      ],
      "text/plain": [
       "<IPython.core.display.Javascript object>"
      ]
     },
     "metadata": {},
     "output_type": "display_data"
    }
   ],
   "source": [
    "%%javascript\n",
    "\n",
    "$.getScript('https://kmahelona.github.io/ipython_notebook_goodies/ipython_notebook_toc.js')"
   ]
  }
 ],
 "metadata": {
  "kernelspec": {
   "display_name": "Python 3",
   "language": "python",
   "name": "python3"
  },
  "language_info": {
   "codemirror_mode": {
    "name": "ipython",
    "version": 3
   },
   "file_extension": ".py",
   "mimetype": "text/x-python",
   "name": "python",
   "nbconvert_exporter": "python",
   "pygments_lexer": "ipython3",
   "version": "3.7.2"
  }
 },
 "nbformat": 4,
 "nbformat_minor": 2
}
