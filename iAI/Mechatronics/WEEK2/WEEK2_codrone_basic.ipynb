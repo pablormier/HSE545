{
 "cells": [
  {
   "cell_type": "markdown",
   "metadata": {},
   "source": [
    "<br>\n",
    "<font size='6'><b>Codrone Basic</b></font><br><br>\n",
    "\n",
    "<table style=\"border-style: hidden; border-collapse: collapse;\" width = \"80%\"> \n",
    "    <tr style=\"border-style: hidden; border-collapse: collapse;\">\n",
    "        <td width = 50% style=\"border-style: hidden; border-collapse: collapse;\">\n",
    "\n",
    "        </td>\n",
    "        <td width = 20%>\n",
    "        Collected by Seungchul Lee<br>iAI Lab<br>http://iai.postech.ac.kr<br>POSTECH\n",
    "        </td>\n",
    "    </tr>\n",
    "</table>\n",
    "\n",
    "\n",
    "Table of Contents\n",
    "<div id=\"toc\"></div>\n",
    "\n",
    "# 0. Today's Lesson\n",
    "\n",
    "\n",
    "- Pairing\n",
    "    - Drone Bluetooth Module Connection\n",
    "    - Drone Pairing\n",
    "\n",
    "- LED\n",
    "    - CoDrone Library\n",
    "    - LED Control\n",
    "\n",
    "- Calibration & Flight\n",
    "    - Calibration\n",
    "    - Basic Drone Flight\n",
    "\n",
    "- __Please submit the following files after today's class.__\n",
    "    - ipynb files\n",
    "    - Demonstration videos of your drone and LEDs\n",
    "    \n",
    "- TA's E-mail : p0125ch@postech.ac.kr\n",
    "    - The title of your mail should be \"[MECH199-01][Drone & RC Car] (Group Name) WEEK2\""
   ]
  },
  {
   "cell_type": "markdown",
   "metadata": {},
   "source": [
    "# 1. Pairing\n",
    "\n",
    "## 1.1. Drone Bluetooth Module Connection\n",
    "\n",
    "__[1]__ CP210X_Universal_Windows_Driver 설치\n",
    "\n",
    " - 아래 링크에 들어가서 자신의 OS Version과 맞는 파일을 다운\n",
    " - https://www.silabs.com/products/development-tools/software/usb-to-uart-bridge-vcp-drivers\n",
    "\n",
    "__[2]__ CP210x_Universal_Windows_Driver.zip 압축해제\n",
    "\n",
    "__[3]__ CP210x_Universal_Windows_Driver 폴더에서 아래 설치파일들 중 자신의 OS 에 맞는 설치파일 실행\n",
    "\n",
    "- CP210xVCPInstaller_x64 (64 Bit)\n",
    "- CP210xVCPInstaller_x86 (32 Bit)\n",
    "\n",
    "__[4]__ Bluetooth Module 을 노트북에 연결 (USB 포트)\n",
    "\n",
    "__[5]__ 윈도우 마크 우클릭 후 장치 관리자 열어서 포트에 아래 항목이 연결되어있는지 확인\n",
    "\n",
    "- Silicon Labs CP210x USB to UART Bridge\n",
    "\n",
    "<img src = \"./image_files/port_confirm.png\" style=\"border:1px solid black\" width = 700>"
   ]
  },
  {
   "cell_type": "markdown",
   "metadata": {},
   "source": [
    "## 1.2. Drone Pairing\n",
    "\n",
    "__[1]__ Jupyter Notebook 실행\n",
    "\n",
    "__[2]__ Bluetooth Module 을 아래처럼 master mode 로 설정\n",
    "\n",
    "    - 1 : off, 2 : on\n",
    "\n",
    "__[3]__ CoDrone Library Import"
   ]
  },
  {
   "cell_type": "code",
   "execution_count": 1,
   "metadata": {
    "collapsed": true
   },
   "outputs": [],
   "source": [
    "from CoDrone.codrone import *"
   ]
  },
  {
   "cell_type": "markdown",
   "metadata": {},
   "source": [
    "__[3]__ Pairing Code 실행 (Nearest Drone Pairing)\n",
    "\n",
    "    - Pairing 하기 전 반드시 조교에게 먼저 허락을 받으세요."
   ]
  },
  {
   "cell_type": "code",
   "execution_count": 2,
   "metadata": {},
   "outputs": [
    {
     "name": "stdout",
     "output_type": "stream",
     "text": [
      ">> Port : [COM4]\n",
      ">> Drone : [3218]\n",
      ">> Battery : [0]\n",
      ">> Low Battery!!\n",
      "Codrone이 성공적으로 페어링되었습니다.\n"
     ]
    }
   ],
   "source": [
    "if __name__ == '__main__':\n",
    "    drone = CoDrone()\n",
    "    drone.pair(drone.Nearest)\n",
    "    sleep(1)\n",
    "    \n",
    "if drone.isConnected():\n",
    "    print('Codrone이 성공적으로 페어링되었습니다.')\n",
    "    \n",
    "drone.close()"
   ]
  },
  {
   "cell_type": "markdown",
   "metadata": {},
   "source": [
    "__[3]__ 4자리 정수의 Address 을 기록하여 다음 페이링부터는 Address 로 페어링 할 수 있도록 함 (본 예제의 경우 3218)\n",
    "\n",
    "__[4]__ 드론의 후미등이 BLINK 에서 Solid로 바뀌었는지 확인\n",
    "\n",
    "__[5]__ 아래 error가 뜰 경우에는 Bluetooth Module 을 뽑았다가 다시 연결하세요\n",
    "\n",
    "    - SerialException: could not open port 'COM#' : PermissionError(#, '액세스가 거부되었습니다.', None, #)"
   ]
  },
  {
   "cell_type": "markdown",
   "metadata": {},
   "source": [
    "# 2. LED\n",
    "## 2.1. CoDrone Library\n",
    "\n",
    "__[1]__ CoDrone Library Reference page 열기\n",
    "\n",
    " - http://dev-support.robolink.com/\n",
    "\n",
    "__[2]__ Reference 를 참고하되 Tap key 를 이용하여 함수 사용에 어려움이 없도록 하세요\n",
    "\n",
    "\n",
    "## 2.2. LED Control\n",
    "__[1]__ 예제 코드"
   ]
  },
  {
   "cell_type": "code",
   "execution_count": 3,
   "metadata": {},
   "outputs": [
    {
     "name": "stdout",
     "output_type": "stream",
     "text": [
      ">> Port : [COM4]\n",
      ">> Drone : [3218]\n",
      ">> Battery : [0]\n",
      ">> Low Battery!!\n"
     ]
    }
   ],
   "source": [
    "if __name__ == '__main__':\n",
    "    drone = CoDrone()\n",
    "    drone.pair('3218')\n",
    "    sleep(1)\n",
    "    \n",
    "if drone.isConnected():\n",
    "    drone.set_all_led(Color.Green, Mode.BLINK)\n",
    "    sleep(5)\n",
    "    drone.set_all_led(Color.Green, Mode.OFF)\n",
    "    \n",
    "drone.close()"
   ]
  },
  {
   "cell_type": "markdown",
   "metadata": {},
   "source": [
    "__[2]__ 예제 코드의 함수 외에 다른 함수를 사용하여 LED 조절해보세요."
   ]
  },
  {
   "cell_type": "markdown",
   "metadata": {},
   "source": [
    "# 3. Calibration & Flight\n",
    "\n",
    "## 3.1. Calibration\n",
    "\n",
    "__[1]__ Calibration 시행하기전 반드시 조교의 허락을 받으세요\n",
    "\n",
    "__[2]__ 드론을 뒤집어 드론의 Arm 에 있는 LED 가 흰색으로 깜박일 때까지 드론의 양 옆을 꾹 누릅니다.\n",
    "\n",
    "__[3]__ 드론이 흰색으로 깜박이면, 평평한 바닥에 놓습니다. 곧 드론이 자동으로 Calibration을 하는 비행을 합니다.\n",
    "\n",
    "__[4]__ 드론이 착륙하면 Calibration 이 완료된 것입니다.\n",
    "\n",
    "## 3.2. Basic Drone Flight\n",
    "\n",
    "__[1]__ 이륙/착륙"
   ]
  },
  {
   "cell_type": "code",
   "execution_count": 4,
   "metadata": {
    "scrolled": true
   },
   "outputs": [
    {
     "name": "stdout",
     "output_type": "stream",
     "text": [
      ">> Port : [COM4]\n",
      ">> Drone : [3218]\n",
      ">> Battery : [0]\n",
      ">> Low Battery!!\n"
     ]
    }
   ],
   "source": [
    "if __name__ == '__main__':\n",
    "    drone = CoDrone()\n",
    "    drone.pair('3218')\n",
    "    sleep(1)\n",
    "    \n",
    "if drone.isConnected():\n",
    "    drone.takeoff()\n",
    "    sleep(1)\n",
    "    drone.land()\n",
    "\n",
    "drone.close()"
   ]
  },
  {
   "cell_type": "markdown",
   "metadata": {},
   "source": [
    "__[2]__ 전진"
   ]
  },
  {
   "cell_type": "code",
   "execution_count": 5,
   "metadata": {},
   "outputs": [
    {
     "name": "stdout",
     "output_type": "stream",
     "text": [
      ">> Port : [COM4]\n",
      ">> Drone : [3218]\n",
      ">> Battery : [0]\n",
      ">> Low Battery!!\n"
     ]
    }
   ],
   "source": [
    "if __name__ == '__main__':\n",
    "    drone = CoDrone()\n",
    "    drone.pair('3218')\n",
    "    sleep(1)\n",
    "    \n",
    "if drone.isConnected():\n",
    "    drone.takeoff()\n",
    "    drone.go(Direction.FORWARD, 1)\n",
    "    drone.land()\n",
    "    \n",
    "drone.close()"
   ]
  },
  {
   "cell_type": "markdown",
   "metadata": {},
   "source": [
    "__[3]__ CoDrone Library Reference 를 참고하여 드론으로 다각형을 그려보세요"
   ]
  },
  {
   "cell_type": "markdown",
   "metadata": {},
   "source": [
    "__[4]__ LED 명령 코드와 Movement 명령 코드를 조합하여 아래처럼 다양한 Episode 를 만들어보세요\n",
    "\n",
    "    - 방향 전환할 때마다 LED 색이 바뀌면서 사각형을 그리는 Episode\n",
    "    - N second 상승할 때마다, LED 가 N 번 깜박이는 Episode"
   ]
  },
  {
   "cell_type": "code",
   "execution_count": 6,
   "metadata": {},
   "outputs": [
    {
     "data": {
      "application/javascript": [
       "\n",
       "$.getScript('https://kmahelona.github.io/ipython_notebook_goodies/ipython_notebook_toc.js')\n"
      ],
      "text/plain": [
       "<IPython.core.display.Javascript object>"
      ]
     },
     "metadata": {},
     "output_type": "display_data"
    }
   ],
   "source": [
    "%%javascript\n",
    "\n",
    "$.getScript('https://kmahelona.github.io/ipython_notebook_goodies/ipython_notebook_toc.js')"
   ]
  }
 ],
 "metadata": {
  "hide_input": false,
  "kernelspec": {
   "display_name": "Python 3",
   "language": "python",
   "name": "python3"
  },
  "language_info": {
   "codemirror_mode": {
    "name": "ipython",
    "version": 3
   },
   "file_extension": ".py",
   "mimetype": "text/x-python",
   "name": "python",
   "nbconvert_exporter": "python",
   "pygments_lexer": "ipython3",
   "version": "3.7.2"
  },
  "toc": {
   "base_numbering": 1,
   "nav_menu": {},
   "number_sections": false,
   "sideBar": true,
   "skip_h1_title": false,
   "title_cell": "Table of Contents",
   "title_sidebar": "Contents",
   "toc_cell": false,
   "toc_position": {},
   "toc_section_display": true,
   "toc_window_display": false
  },
  "varInspector": {
   "cols": {
    "lenName": 16,
    "lenType": 16,
    "lenVar": 40
   },
   "kernels_config": {
    "python": {
     "delete_cmd_postfix": "",
     "delete_cmd_prefix": "del ",
     "library": "var_list.py",
     "varRefreshCmd": "print(var_dic_list())"
    },
    "r": {
     "delete_cmd_postfix": ") ",
     "delete_cmd_prefix": "rm(",
     "library": "var_list.r",
     "varRefreshCmd": "cat(var_dic_list()) "
    }
   },
   "types_to_exclude": [
    "module",
    "function",
    "builtin_function_or_method",
    "instance",
    "_Feature"
   ],
   "window_display": false
  }
 },
 "nbformat": 4,
 "nbformat_minor": 2
}
