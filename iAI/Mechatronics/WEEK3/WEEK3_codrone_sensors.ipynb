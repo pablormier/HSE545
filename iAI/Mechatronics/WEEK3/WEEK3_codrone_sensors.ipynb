{
 "cells": [
  {
   "cell_type": "markdown",
   "metadata": {},
   "source": [
    "<br>\n",
    "<font size='6'><b>Codrone Basic</b></font><br><br>\n",
    "\n",
    "<table style=\"border-style: hidden; border-collapse: collapse;\" width = \"80%\"> \n",
    "    <tr style=\"border-style: hidden; border-collapse: collapse;\">\n",
    "        <td width = 50% style=\"border-style: hidden; border-collapse: collapse;\">\n",
    "\n",
    "        </td>\n",
    "        <td width = 20%>\n",
    "        Collected by Seungchul Lee<br>iAI Lab<br>http://iai.postech.ac.kr<br>POSTECH\n",
    "        </td>\n",
    "    </tr>\n",
    "</table>\n",
    "\n",
    "\n",
    "Table of Contents\n",
    "<div id=\"toc\"></div>\n",
    "\n",
    "# 1. Today's Lesson\n",
    "\n",
    "\n",
    "- Sensors\n",
    "    - Drone State 읽어보기\n",
    "    - Optical Flow Sensor 값 읽어보기\n",
    "    - Battery Voltage 값 읽어보기\n",
    "    - Temperature 값 읽어보기\n",
    "    - Pressure 값 읽어보기\n",
    "    - Trim 값 읽어보기\n",
    "    - Height 값 읽어보기\n",
    "    - Accelerometer 값 읽어보기\n",
    "    - Gyro Sensor 값 읽어보기\n",
    "    - Battery 잔량 확인하기\n",
    "\n",
    "- Create Episode\n",
    "    - n개의 Sensor 값을 이용하여 에피소드 만들기\n",
    "\n",
    "- 수업 후 아래 파일들을 양식에 맞춰 제출하세요\n",
    "    - __주석__ 을 포함한 당일 사용한 코드 (.ipynb file)\n",
    "    - 각 movement 별 드론 시연 영상\n",
    "    \n",
    "- 제출 E-mail : p0125ch@postech.ac.kr\n",
    "- 제출시 mail 제목 : 새내기연구참여[MECH199-01][Drone & RC Car] (조이름) WEEK2 수업자료"
   ]
  },
  {
   "cell_type": "markdown",
   "metadata": {},
   "source": [
    "# 2. Sensors\n",
    "  \n",
    "  Codrone 에 내장된 여러 센서들의 기능과 용도를 이해하고 사용해본다.  \n",
    "  \n",
    "<img src=\"image_files/sensor.png\">"
   ]
  },
  {
   "cell_type": "markdown",
   "metadata": {},
   "source": [
    "## 2.1. Drone State 확인하기\n",
    "This function gets the state of the drone, as in whether it’s: ready, takeoff, flight, flip, stop, landing, reverse, accident, error.  \n",
    "\n",
    "example code :  "
   ]
  },
  {
   "cell_type": "code",
   "execution_count": 1,
   "metadata": {
    "ExecuteTime": {
     "end_time": "2019-03-25T06:09:34.727974Z",
     "start_time": "2019-03-25T06:09:34.725469Z"
    }
   },
   "outputs": [],
   "source": [
    "import CoDrone\n",
    "\n",
    "def main():\n",
    "    drone = CoDrone.CoDrone()\n",
    "    drone.pair()\n",
    "\n",
    "    # take off the drone if state is not on flight\n",
    "    state = drone.get_state()\n",
    "    if state != \"FLIGHT\":\n",
    "        drone.takeoff()\n",
    "\n",
    "    drone.hover(3)\n",
    "    drone.land()\n",
    "\n",
    "if __name__ == '__main__':\n",
    "    main()"
   ]
  },
  {
   "cell_type": "markdown",
   "metadata": {},
   "source": [
    "## 2.2 Optical Flow Sensor 값 읽어보기\n",
    "This function gets the x and y coordinates from the optical flow sensor.  \n",
    "Keep in mind, the positioning does not take rotation into account.  \n",
    "  \n",
    "example code : "
   ]
  },
  {
   "cell_type": "code",
   "execution_count": 2,
   "metadata": {
    "ExecuteTime": {
     "end_time": "2019-03-25T06:09:34.738861Z",
     "start_time": "2019-03-25T06:09:34.729958Z"
    }
   },
   "outputs": [],
   "source": [
    "import CoDrone\n",
    "\n",
    "def main():\n",
    "    drone = CoDrone.CoDrone()\n",
    "    drone.pair()\n",
    "\n",
    "    # print the optical flow position x,y value\n",
    "    position = drone.get_opt_flow_position()\n",
    "    print(position.X, position.Y)\n",
    "\n",
    "if __name__ == '__main__':\n",
    "    main()"
   ]
  },
  {
   "cell_type": "markdown",
   "metadata": {},
   "source": [
    "## 2.3 Battery Voltage 값 읽어보기\n",
    "This function gets the voltage of the battery  \n",
    "  \n",
    "example code :  "
   ]
  },
  {
   "cell_type": "code",
   "execution_count": 3,
   "metadata": {
    "ExecuteTime": {
     "end_time": "2019-03-25T06:09:34.744814Z",
     "start_time": "2019-03-25T06:09:34.740350Z"
    }
   },
   "outputs": [],
   "source": [
    "import CoDrone\n",
    "\n",
    "def main():\n",
    "    drone = CoDrone.CoDrone()\n",
    "    drone.pair()\n",
    "\n",
    "    # print the battery voltage of drone.\n",
    "    battery = drone.get_battery_voltage()\n",
    "    print(battery)\n",
    "\n",
    "if __name__ == '__main__':\n",
    "    main()"
   ]
  },
  {
   "cell_type": "markdown",
   "metadata": {},
   "source": [
    "## 2.4 Temperature 값 읽어보기\n",
    "This is a getter function gets the data from the drone’s temperature sensor.  \n",
    "Importantly, it reads the drone’s temperature, not the air around it.  \n",
    "  \n",
    "example code :  "
   ]
  },
  {
   "cell_type": "code",
   "execution_count": 4,
   "metadata": {
    "ExecuteTime": {
     "end_time": "2019-03-25T06:09:34.752254Z",
     "start_time": "2019-03-25T06:09:34.747293Z"
    }
   },
   "outputs": [],
   "source": [
    "import CoDrone\n",
    "\n",
    "def main():\n",
    "    drone = CoDrone.CoDrone()\n",
    "    drone.pair()\n",
    "\n",
    "    ## print the temperature of drone\n",
    "    temperature = drone.get_drone_temp()\n",
    "    print(temperature)\n",
    "\n",
    "if __name__ == '__main__':\n",
    "    main()"
   ]
  },
  {
   "cell_type": "markdown",
   "metadata": {},
   "source": [
    "## 2.5 Pressure 값 읽어보기\n",
    "This is a getter function gets the data from the barometer sensor.  \n",
    "  \n",
    "example code :  "
   ]
  },
  {
   "cell_type": "code",
   "execution_count": 5,
   "metadata": {
    "ExecuteTime": {
     "end_time": "2019-03-25T06:09:34.758205Z",
     "start_time": "2019-03-25T06:09:34.754734Z"
    }
   },
   "outputs": [],
   "source": [
    "import CoDrone\n",
    "\n",
    "def main():\n",
    "    drone = CoDrone.CoDrone()\n",
    "    drone.pair()\n",
    "\n",
    "    # print the pressure\n",
    "    pressure = drone.get_pressure()\n",
    "    print(pressure)\n",
    "\n",
    "if __name__ == '__main__':\n",
    "    main()"
   ]
  },
  {
   "cell_type": "markdown",
   "metadata": {},
   "source": [
    "## 2.6 Trim 값 읽어보기\n",
    "This function gets the current trim values of the drone.  \n",
    "  \n",
    "example code :  "
   ]
  },
  {
   "cell_type": "code",
   "execution_count": 6,
   "metadata": {
    "ExecuteTime": {
     "end_time": "2019-03-25T06:09:34.763685Z",
     "start_time": "2019-03-25T06:09:34.759717Z"
    }
   },
   "outputs": [],
   "source": [
    "import CoDrone\n",
    "\n",
    "def main():\n",
    "    drone = CoDrone.CoDrone()\n",
    "    drone.pair()\n",
    "\n",
    "    #print current drone's trim value\n",
    "    trim = drone.get_trim()\n",
    "    print(trim.ROLL, trim.PITCH, trim.YAW, trim.THROTTLE)\n",
    "\n",
    "if __name__ == '__main__':\n",
    "    main()"
   ]
  },
  {
   "cell_type": "markdown",
   "metadata": {},
   "source": [
    "## 2.7 Height 값 읽어보기\n",
    "This is a getter function gets the current height of the drone from the object directly below its IR sensor.  \n",
    "  \n",
    "example code :  "
   ]
  },
  {
   "cell_type": "code",
   "execution_count": 7,
   "metadata": {
    "ExecuteTime": {
     "end_time": "2019-03-25T06:09:34.770606Z",
     "start_time": "2019-03-25T06:09:34.765149Z"
    }
   },
   "outputs": [],
   "source": [
    "import CoDrone\n",
    "from CoDrone import Direction\n",
    "\n",
    "def main():\n",
    "    drone = CoDrone.CoDrone()\n",
    "    drone.pair()\n",
    "\n",
    "    drone.takeoff()\n",
    "\n",
    "    # fly between 500mm and 1000mm\n",
    "    for i in range(200):\n",
    "        height = drone.get_height()\n",
    "        if height > 1000:\n",
    "            drone.go(Direction.DOWN)\n",
    "        elif height < 500:\n",
    "            drone.go(Direction.UP)\n",
    "        sleep(0.1)\n",
    "\n",
    "    drone.land()\n",
    "\n",
    "if __name__ == '__main__':\n",
    "    main()"
   ]
  },
  {
   "cell_type": "markdown",
   "metadata": {},
   "source": [
    "## 2.8 Accelerometer 값 읽어보기\n",
    "This function gets the accelerometer sensor data, which returns x, y, and z values in m/s2.  \n",
    "It outputs to the UI in Blockly and as a class in Python as a struct in Arduino.  \n",
    "  \n",
    "example code : "
   ]
  },
  {
   "cell_type": "code",
   "execution_count": 8,
   "metadata": {
    "ExecuteTime": {
     "end_time": "2019-03-25T06:09:34.778068Z",
     "start_time": "2019-03-25T06:09:34.772094Z"
    }
   },
   "outputs": [],
   "source": [
    "import CoDrone\n",
    "\n",
    "def main():\n",
    "    drone = CoDrone.CoDrone()\n",
    "    drone.pair()\n",
    "\n",
    "    # print the acceleration of drone\n",
    "    acceleration = drone.get_accelerometer()\n",
    "    print(acceleration.X, acceleration.Y, acceleration.Z)\n",
    "\n",
    "if __name__ == '__main__':\n",
    "    main()"
   ]
  },
  {
   "cell_type": "markdown",
   "metadata": {},
   "source": [
    "## 2.9 Gyro Sensor 값 읽어보기\n",
    "This function gets the data from the gyrometer sensor to determine the roll, pitch, and yaw as angles.  \n",
    "  \n",
    "example code :  "
   ]
  },
  {
   "cell_type": "code",
   "execution_count": 9,
   "metadata": {
    "ExecuteTime": {
     "end_time": "2019-03-25T06:09:34.784493Z",
     "start_time": "2019-03-25T06:09:34.779534Z"
    }
   },
   "outputs": [],
   "source": [
    "import CoDrone\n",
    "\n",
    "def main():\n",
    "    drone = CoDrone.CoDrone()\n",
    "    drone.pair()\n",
    "\n",
    "    # print the angles of drone\n",
    "    GyroAngles = drone.get_gyro_angles()\n",
    "    print(GyroAngles.ROLL, GyroAngles.PITCH, GyroAngles.YAW)\n",
    "\n",
    "if __name__ == '__main__':\n",
    "    main()"
   ]
  },
  {
   "cell_type": "markdown",
   "metadata": {},
   "source": [
    "## 2.10 Battery 잔량 확인하기\n",
    "This function gets the battery percentage of the drone, returning a value from 0 to 100.  \n",
    "  \n",
    "example code :  "
   ]
  },
  {
   "cell_type": "code",
   "execution_count": 10,
   "metadata": {
    "ExecuteTime": {
     "end_time": "2019-03-25T06:09:34.790942Z",
     "start_time": "2019-03-25T06:09:34.785486Z"
    }
   },
   "outputs": [],
   "source": [
    "import CoDrone\n",
    "\n",
    "def main():\n",
    "    drone = CoDrone.CoDrone()\n",
    "    drone.pair()\n",
    "    drone.takeoff()\n",
    "\n",
    "    # stop the drone if battery is lower than 10 percent.\n",
    "    battery = drone.get_battery_percentage()\n",
    "    if battery < 10:\n",
    "        drone.emergency_stop()\n",
    "\n",
    "if __name__ == '__main__':\n",
    "    main()"
   ]
  },
  {
   "cell_type": "markdown",
   "metadata": {},
   "source": [
    "# 3. Create Episode\n",
    "## n개의 Sensor 값을 이용하여 에피소드 만들기\n",
    "  \n",
    "고도 센서를 이용한 예 :   \n",
    "> 이륙 후 고도가 2m가 될 때까지 상승, 전진하면서 고도 센서를 이용해 사물함 위에 드론이 위치하는지 확인.  \n",
    "> 이동 후 사물함 윗면으로부터의 고도가 10cm가 될 때까지 하강, 이후 착륙"
   ]
  },
  {
   "cell_type": "code",
   "execution_count": 11,
   "metadata": {
    "ExecuteTime": {
     "end_time": "2019-03-25T06:09:34.804333Z",
     "start_time": "2019-03-25T06:09:34.792429Z"
    }
   },
   "outputs": [
    {
     "data": {
      "application/javascript": [
       "\n",
       "$.getScript('https://kmahelona.github.io/ipython_notebook_goodies/ipython_notebook_toc.js')\n"
      ],
      "text/plain": [
       "<IPython.core.display.Javascript object>"
      ]
     },
     "metadata": {},
     "output_type": "display_data"
    }
   ],
   "source": [
    "%%javascript\n",
    "\n",
    "$.getScript('https://kmahelona.github.io/ipython_notebook_goodies/ipython_notebook_toc.js')"
   ]
  }
 ],
 "metadata": {
  "hide_input": false,
  "kernelspec": {
   "display_name": "Python 3",
   "language": "python",
   "name": "python3"
  },
  "language_info": {
   "codemirror_mode": {
    "name": "ipython",
    "version": 3
   },
   "file_extension": ".py",
   "mimetype": "text/x-python",
   "name": "python",
   "nbconvert_exporter": "python",
   "pygments_lexer": "ipython3",
   "version": "3.5.2"
  },
  "toc": {
   "base_numbering": 1,
   "nav_menu": {},
   "number_sections": true,
   "sideBar": true,
   "skip_h1_title": false,
   "title_cell": "Table of Contents",
   "title_sidebar": "Contents",
   "toc_cell": false,
   "toc_position": {},
   "toc_section_display": true,
   "toc_window_display": false
  },
  "varInspector": {
   "cols": {
    "lenName": 16,
    "lenType": 16,
    "lenVar": 40
   },
   "kernels_config": {
    "python": {
     "delete_cmd_postfix": "",
     "delete_cmd_prefix": "del ",
     "library": "var_list.py",
     "varRefreshCmd": "print(var_dic_list())"
    },
    "r": {
     "delete_cmd_postfix": ") ",
     "delete_cmd_prefix": "rm(",
     "library": "var_list.r",
     "varRefreshCmd": "cat(var_dic_list()) "
    }
   },
   "types_to_exclude": [
    "module",
    "function",
    "builtin_function_or_method",
    "instance",
    "_Feature"
   ],
   "window_display": false
  }
 },
 "nbformat": 4,
 "nbformat_minor": 2
}
