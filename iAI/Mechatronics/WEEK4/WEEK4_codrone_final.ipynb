{
 "cells": [
  {
   "cell_type": "markdown",
   "metadata": {},
   "source": [
    "<br>\n",
    "<font size='6'><b>Codrone Final</b></font><br><br>\n",
    "\n",
    "<table style=\"border-style: hidden; border-collapse: collapse;\" width = \"80%\"> \n",
    "    <tr style=\"border-style: hidden; border-collapse: collapse;\">\n",
    "        <td width = 50% style=\"border-style: hidden; border-collapse: collapse;\">\n",
    "\n",
    "        </td>\n",
    "        <td width = 20%>\n",
    "        Collected by Seungchul Lee<br>iAI Lab<br>http://iai.postech.ac.kr<br>POSTECH\n",
    "        </td>\n",
    "    </tr>\n",
    "</table>\n",
    "\n",
    "\n",
    "Table of Contents\n",
    "<div id=\"toc\"></div>\n",
    "\n",
    "# 0. Today's Lesson\n",
    "\n",
    "\n",
    "- Movement Command\n",
    "    - Throttle\n",
    "    - Yaw\n",
    "    - Pitch\n",
    "    - Roll\n",
    "\n",
    "- Multiple Direction\n",
    "    - Roll & Pitch\n",
    "    - Tips\n",
    "\n",
    "- Mission\n",
    "    - Circle\n",
    "    - Number \"8\"\n",
    "    - Obstacle\n",
    "    \n",
    "- __Please submit the following files after today's class.__\n",
    "    - ipynb files\n",
    "    - Demonstration videos of your drone and LEDs\n",
    "    \n",
    "- TA's E-mail : p0125ch@postech.ac.kr\n",
    "    - The title of your mail should be \"[MECH199-01][Drone & RC Car] (Group Name) WEEK4\""
   ]
  },
  {
   "cell_type": "markdown",
   "metadata": {},
   "source": [
    "# 1. Movement Command \n",
    "## 1.1 Takeoff & Landing\n",
    " - Previously, we have only used this command.\n",
    "      <img src=\"./image_files/takeoff_landing.PNG\">"
   ]
  },
  {
   "cell_type": "code",
   "execution_count": 1,
   "metadata": {},
   "outputs": [],
   "source": [
    "import CoDrone\n",
    "\n",
    "def main():\n",
    "    drone = CoDrone.CoDrone()\n",
    "    drone.pair()\n",
    "    drone.takeoff()\n",
    "\n",
    "    drone.hover(3)\n",
    "    drone.land()\n",
    "\n",
    "if __name__ == '__main__':\n",
    "    main()"
   ]
  },
  {
   "cell_type": "markdown",
   "metadata": {},
   "source": [
    "## 1.2 Throttle \n",
    " - Throttle controls the vertical up and down motion of the drone.  Positive throttle will make the drone fly higher and negative throttle will make the drone fly lower.\n",
    "     <img src=\"./image_files/throttle.PNG\">"
   ]
  },
  {
   "cell_type": "code",
   "execution_count": 2,
   "metadata": {},
   "outputs": [],
   "source": [
    "def main():\n",
    "    drone = CoDrone.CoDrone()\n",
    "    drone.pair()\n",
    "    drone.takeoff()\n",
    "\n",
    "    # -100 to 100 that sets the pitch variable.\n",
    "    # Drone goes up for 1 second with 50 power\n",
    "    drone.set_throttle(100)\n",
    "    drone.move(1)\n",
    "\n",
    "if __name__ == '__main__':\n",
    "    main()"
   ]
  },
  {
   "cell_type": "markdown",
   "metadata": {},
   "source": [
    "## 1.3 Yaw\n",
    " - Yaw is the left and right rotation of the drone.  Positive yaw will make the drone turn to the right and negative yaw will make the drone turn to the left.\n",
    "     <img src=\"./image_files/yaw.PNG\">\n"
   ]
  },
  {
   "cell_type": "code",
   "execution_count": 3,
   "metadata": {},
   "outputs": [],
   "source": [
    "import CoDrone\n",
    "\n",
    "def main():\n",
    "    drone = CoDrone.CoDrone()\n",
    "    drone.pair()\n",
    "\n",
    "    drone.takeoff()\n",
    "    \n",
    "    # -100 to 100 that sets the pitch variable.\n",
    "    # Drone turns right for 1 second with 50 power\n",
    "    drone.set_yaw(-100)\n",
    "    drone.move(1)\n",
    "\n",
    "if __name__ == '__main__':\n",
    "    main()"
   ]
  },
  {
   "cell_type": "markdown",
   "metadata": {},
   "source": [
    "## 1.4 Pitch\n",
    " - Pitch is the forward and backward tilt of the drone.  positive pitch will make the drone tilt and move forward and negative pitch will make the drone tilt and move backwards.\n",
    "     <img src=\"./image_files/pitch.PNG\">\n"
   ]
  },
  {
   "cell_type": "code",
   "execution_count": 4,
   "metadata": {},
   "outputs": [],
   "source": [
    "import CoDrone\n",
    "\n",
    "def main():\n",
    "    drone = CoDrone.CoDrone()\n",
    "    drone.pair()\n",
    "    drone.takeoff()\n",
    "\n",
    "    # -100 to 100 that sets the pitch variable.\n",
    "    # Drone goes right for 1 second with 50 power\n",
    "    drone.set_pitch(50)\n",
    "    drone.move(1)\n",
    "\n",
    "if __name__ == '__main__':\n",
    "    main()"
   ]
  },
  {
   "cell_type": "markdown",
   "metadata": {},
   "source": [
    "## 1.5 Roll\n",
    " - Roll is the side to side tilt of the drone.  Positive roll will make the drone tilt to the right and negative roll will make the drone tilt to the left.\n",
    "     <img src=\"./image_files/roll.PNG\">\n"
   ]
  },
  {
   "cell_type": "code",
   "execution_count": 5,
   "metadata": {},
   "outputs": [],
   "source": [
    "import CoDrone\n",
    "\n",
    "def main():\n",
    "    drone = CoDrone.CoDrone()\n",
    "    drone.pair()\n",
    "    drone.takeoff()\n",
    "\n",
    "    # -100 to 100 that sets the pitch variable.\n",
    "    # Drone goes right for 1 second with 50 power\n",
    "    drone.set_roll(50)\n",
    "    drone.move(1)\n",
    "\n",
    "if __name__ == '__main__':\n",
    "    main()"
   ]
  },
  {
   "cell_type": "markdown",
   "metadata": {},
   "source": [
    "# 2. Multiple Direction"
   ]
  },
  {
   "cell_type": "markdown",
   "metadata": {},
   "source": [
    "## 2.1 Roll & Pitch\n",
    " - You can also set multiple directions at once. It makes your CoDrone to fly to the right and backwards at the same time."
   ]
  },
  {
   "cell_type": "code",
   "execution_count": 6,
   "metadata": {},
   "outputs": [],
   "source": [
    "import CoDrone\n",
    "\n",
    "def main():\n",
    "    drone = CoDrone.CoDrone()\n",
    "    drone.pair()\n",
    "    drone.takeoff()\n",
    "\n",
    "    # -100 to 100 that sets the pitch variable.\n",
    "    # Drone goes right for 1 second with 50 power\n",
    "    drone.set_roll(50)\n",
    "    drone.set_pitch(-65)\n",
    "    drone.move(1)\n",
    "\n",
    "if __name__ == '__main__':\n",
    "    main()"
   ]
  },
  {
   "cell_type": "markdown",
   "metadata": {},
   "source": [
    "## 2.2 Tips\n",
    " - We need to set the movement values back to 0 if we do not want to continue moving in that direction. So for the second movement we set throttle back to 0 so that we would not continue to fly upwards.\n"
   ]
  },
  {
   "cell_type": "code",
   "execution_count": 7,
   "metadata": {},
   "outputs": [],
   "source": [
    "def main():\n",
    "    drone = CoDrone.CoDrone()\n",
    "    drone.pair()\n",
    "    drone.takeoff()\n",
    "\n",
    "    # -100 to 100 that sets the pitch variable.\n",
    "    # Drone goes up for 1 second with 50 power\n",
    "    drone.set_throttle(100)\n",
    "    drone.move(1)\n",
    "    drone.set_throttle(0)\n",
    "\n",
    "if __name__ == '__main__':\n",
    "    main()"
   ]
  },
  {
   "cell_type": "markdown",
   "metadata": {},
   "source": [
    " - When the drone is moving in one direction and you try to switch directions mid-flight, it does not stop and make a sudden switch in direction. It would move in a curve, not a sharp change in direction. "
   ]
  },
  {
   "cell_type": "code",
   "execution_count": 8,
   "metadata": {},
   "outputs": [],
   "source": [
    "def main():\n",
    "    drone = CoDrone.CoDrone()\n",
    "    drone.pair()\n",
    "    drone.takeoff()\n",
    "\n",
    "    # -100 to 100 that sets the pitch variable.\n",
    "    # Drone goes up for 1 second with 50 power\n",
    "    drone.set_pitch(50)\n",
    "    drone.move(1)\n",
    "    drone.set_pitch(0)\n",
    "    drone.set_roll(50)\n",
    "    drone.move(1)\n",
    "\n",
    "if __name__ == '__main__':\n",
    "    main()"
   ]
  },
  {
   "cell_type": "markdown",
   "metadata": {},
   "source": [
    " - To fix this we will add a step in that will slow the CoDrone down before it changes direction."
   ]
  },
  {
   "cell_type": "code",
   "execution_count": 9,
   "metadata": {},
   "outputs": [],
   "source": [
    "def main():\n",
    "    drone = CoDrone.CoDrone()\n",
    "    drone.pair()\n",
    "    drone.takeoff()\n",
    "\n",
    "    # -100 to 100 that sets the pitch variable.\n",
    "    # Drone goes up for 1 second with 50 power\n",
    "    drone.set_pitch(50)\n",
    "    drone.move(1)\n",
    "    drone.set_pitch(-100)\n",
    "    drone.move(0.25)\n",
    "    drone.set_pitch(0)\n",
    "    drone.set_roll(50)\n",
    "    drone.move(1)\n",
    "\n",
    "if __name__ == '__main__':\n",
    "    main()"
   ]
  },
  {
   "cell_type": "markdown",
   "metadata": {},
   "source": [
    "# 3. Mission\n",
    "### You must reach 200 total points."
   ]
  },
  {
   "cell_type": "markdown",
   "metadata": {},
   "source": [
    "## 3.1 Circle\n",
    " - Move in a circle shape in the air : __75 point__\n",
    "<img src=\"./image_files/circle.jpg\">\n"
   ]
  },
  {
   "cell_type": "markdown",
   "metadata": {},
   "source": [
    "## 3.2 Number \"8\"\n",
    " - Move in a figure-eight shape in the air : __75 point__\n",
    "<img src=\"./image_files/number8.jpg\" width=\"150\">"
   ]
  },
  {
   "cell_type": "markdown",
   "metadata": {},
   "source": [
    "## 3.3 Digital \"8\"\n",
    " - Make it a “digital” figure-eight, that is rather than being curved have it move in straight lines to make a more “digital” looking 8 (see picture below) : __100 point__\n",
    "\n",
    "<img src=\"./image_files/digital8.jpg\" width=\"100\">"
   ]
  },
  {
   "cell_type": "markdown",
   "metadata": {},
   "source": [
    "## 3.4 Pass through obstacle(1)\n",
    " - Control your drone to pass through obstacles : __50 point__\n",
    " <img src=\"./image_files/mission.png\" width=\"400\">"
   ]
  },
  {
   "cell_type": "markdown",
   "metadata": {},
   "source": [
    "## 3.5 Pass through obstacle(2)\n",
    " - Control your drone to pass through obstacles and land in the box : __50 point__"
   ]
  },
  {
   "cell_type": "code",
   "execution_count": 10,
   "metadata": {},
   "outputs": [
    {
     "data": {
      "application/javascript": [
       "\n",
       "$.getScript('https://kmahelona.github.io/ipython_notebook_goodies/ipython_notebook_toc.js')\n"
      ],
      "text/plain": [
       "<IPython.core.display.Javascript object>"
      ]
     },
     "metadata": {},
     "output_type": "display_data"
    }
   ],
   "source": [
    "%%javascript\n",
    "\n",
    "$.getScript('https://kmahelona.github.io/ipython_notebook_goodies/ipython_notebook_toc.js')"
   ]
  }
 ],
 "metadata": {
  "kernelspec": {
   "display_name": "Python 3",
   "language": "python",
   "name": "python3"
  },
  "language_info": {
   "codemirror_mode": {
    "name": "ipython",
    "version": 3
   },
   "file_extension": ".py",
   "mimetype": "text/x-python",
   "name": "python",
   "nbconvert_exporter": "python",
   "pygments_lexer": "ipython3",
   "version": "3.7.2"
  }
 },
 "nbformat": 4,
 "nbformat_minor": 2
}
