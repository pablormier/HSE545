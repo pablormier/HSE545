{
 "cells": [
  {
   "cell_type": "markdown",
   "metadata": {},
   "source": [
    "<br>\n",
    "<font size='6'><b>Microcontroller</b></font><br><br>\n",
    "\n",
    "<table style=\"border-style: hidden; border-collapse: collapse;\" width = \"80%\"> \n",
    "    <tr style=\"border-style: hidden; border-collapse: collapse;\">\n",
    "        <td width = 50% style=\"border-style: hidden; border-collapse: collapse;\">\n",
    "\n",
    "        </td>\n",
    "        <td width = 20%>\n",
    "        Collected by Seungchul Lee<br>iAI Lab<br>http://iai.postech.ac.kr<br>POSTECH\n",
    "        </td>\n",
    "    </tr>\n",
    "</table>\n",
    "\n",
    "\n",
    "Table of Contents\n",
    "<div id=\"toc\"></div>\n",
    "\n",
    "# 0. Today's Lesson\n",
    "\n",
    "\n",
    "- Microcontroller\n",
    "- Arduino\n",
    "- Arduino IDE (Integrated Development Environment)\n",
    "    - Installation\n",
    "    - Overview\n",
    "- LED Example\n",
    "    - Blink\n",
    "    - Fade\n",
    "- __You don't need to submit any files on today's class.__"
   ]
  },
  {
   "cell_type": "markdown",
   "metadata": {},
   "source": [
    "# 1. Microcontroller"
   ]
  },
  {
   "cell_type": "markdown",
   "metadata": {},
   "source": [
    "<p>\n",
    "<img src=\"./image_files/mcu3.png\" alt=\"Drawing\" style=\"width: 700px;\"/>\n",
    "</p>"
   ]
  },
  {
   "cell_type": "markdown",
   "metadata": {},
   "source": [
    "* A microcontroller (MCU for microcontroller unit, or UC for μ-controller) is a small computer on a single integrated circuit.\n",
    "* A microcontroller can acquire and process sensor data and control actuators.\n",
    "* Microcontrollers are used in automatically controlled products and devices, such as automobile engine control systems, implantable medical devices, remote controls, office machines, appliances, power tools, toys and other embedded systems."
   ]
  },
  {
   "cell_type": "markdown",
   "metadata": {
    "collapsed": true
   },
   "source": [
    "# 2. Arduino"
   ]
  },
  {
   "cell_type": "markdown",
   "metadata": {},
   "source": [
    "<p>\n",
    "<img src=\"./image_files/arduino_explanation.png\" alt=\"Drawing\" style=\"width:600px;\"/>\n",
    "</p>\n",
    "<p><p/><em><center>Arduino</center></em>"
   ]
  },
  {
   "cell_type": "markdown",
   "metadata": {},
   "source": [
    "* Arduino is a kind of microcontroller.\n",
    "* Arduino is an open source computer hardware.\n",
    "* Arduino UNO will be used in our project.\n",
    "* Arduino UNO detail : https://store.arduino.cc/usa/arduino-uno-rev3"
   ]
  },
  {
   "cell_type": "markdown",
   "metadata": {},
   "source": [
    "# 3. Arduino IDE (Integrated Development Environment)"
   ]
  },
  {
   "cell_type": "markdown",
   "metadata": {},
   "source": [
    "<p>\n",
    "<img src=\"./image_files/arduino_ide.png\" alt=\"Drawing\" style=\"width: 400px;\"/>\n",
    "<em><center>Arduino IDE</center></em>\n",
    "</p>"
   ]
  },
  {
   "cell_type": "markdown",
   "metadata": {},
   "source": [
    "* IDE is a software that provides an enviroment for program development.\n",
    "* The Arduino Software (IDE) allows you to write programs and upload them to your board."
   ]
  },
  {
   "cell_type": "markdown",
   "metadata": {},
   "source": [
    "## 3.1. Installation"
   ]
  },
  {
   "cell_type": "markdown",
   "metadata": {},
   "source": [
    "1. Arduino homepage : https://www.arduino.cc/en/main/software. Download Arduino IDE according to your OS\n",
    "\n",
    "    <p>\n",
    "    <img src=\"./image_files/arduino_ide_install1.png\" alt=\"Drawing\" style=\"width: 600px;\"/>\n",
    "    </p>\n",
    "    <em><center> Arduino IDE download page </center></em>\n",
    "\n",
    "2. Install Arduino IDE\n",
    "\n",
    "    <p>\n",
    "    <img src=\"./image_files/arduino_ide_install2.png\" alt=\"Drawing\" style=\"width: 750px;\"/>\n",
    "    </p>\n",
    "    <em><center> Arduino IDE install </center></em>\n",
    "    \n",
    "3. Arduino IDE initial screen\n",
    "\n",
    "    <p>\n",
    "    <img src=\"./image_files/arduino_ide_install3.png\" alt=\"Drawing\" style=\"width: 400px;\"/>\n",
    "    </p>\n",
    "    <em><center> Arduino IDE initial screen </center></em>\n"
   ]
  },
  {
   "cell_type": "markdown",
   "metadata": {},
   "source": [
    "## 3.2. Overview"
   ]
  },
  {
   "cell_type": "markdown",
   "metadata": {
    "collapsed": true
   },
   "source": [
    "- Preparations for uploading program to arduino\n",
    "\n",
    "<p>\n",
    "<img src=\"./image_files/arduino_ide_overview2.png\" alt=\"Drawing\" style=\"width: 510px;\"/>\n",
    "<br>\n",
    "<center> &bull; Before performing the Arduino programming, port in Arduino configuration should match the port in Device Manager for code uploading. </center>\n",
    "</p>\n",
    "<br>\n",
    "<br>\n",
    "<p>\n",
    "<img src=\"./image_files/arduino_ide_overview1.png\" alt=\"Drawing\" style=\"width: 500px;\"/><br>\n",
    "<center>&bull; After writting the your own code, you should verify whether the code is correct with verify button.<br>\n",
    "<img src=\"./image_files/verify.png\" alt=\"Drawing\" style=\"width: 30px;\"/><br>\n",
    "&bull; After verification, you can upload your code with upload button.\n",
    "<img src=\"./image_files/upload.png\" alt=\"Drawing\" style=\"width: 30px;\"/>\n",
    "</center>\n",
    "</p>\n"
   ]
  },
  {
   "cell_type": "markdown",
   "metadata": {},
   "source": [
    "# 4. LED Example\n",
    "* LED blink (reference : https://www.arduino.cc/en/Tutorial/Blink)\n",
    "* LED fade (reference : https://www.arduino.cc/en/tutorial/fade)"
   ]
  },
  {
   "cell_type": "markdown",
   "metadata": {
    "collapsed": true
   },
   "source": [
    "## 4-1. Blink"
   ]
  },
  {
   "cell_type": "markdown",
   "metadata": {},
   "source": [
    "### a. Hardware Configuration\n",
    "* Hardware requirement\n",
    "    * Arduino board\n",
    "    * LED\n",
    "    * 220 ohm resistor\n",
    "    * hook-up wires\n",
    "    * breadboard\n",
    "\n",
    "<p>\n",
    "<img src=\"./image_files/arduino_example.png\" alt=\"Drawing\" style=\"width: 700px;\"/>\n",
    "</p>\n",
    "<center><em>Hardware configuration</em></center>\n",
    "\n",
    "<p>\n",
    "<img src=\"./image_files/arduino_usb_connect.png\" alt=\"Drawing\" style=\"width: 500px;\"/>\n",
    "</p>\n",
    "<center><em>you should connect arduino to PC</em></center>"
   ]
  },
  {
   "cell_type": "markdown",
   "metadata": {},
   "source": [
    "### b. Arduino Connection\n",
    "<p>\n",
    "<img src=\"./image_files/arduino_ide_overview2.png\" alt=\"Drawing\" style=\"width: 510px;\"/>\n",
    "<br>\n",
    "<center> &bull; Before performing the Arduino programming, port in Arduino configuration should match the port in Device Manager for code uploading. </center>\n",
    "</p>"
   ]
  },
  {
   "cell_type": "markdown",
   "metadata": {},
   "source": [
    "### c. Programming\n",
    "<p>\n",
    "<img src=\"./image_files/arduino_blink_code.png\" alt=\"Drawing\" style=\"width: 400px;\"/>\n",
    "</p>\n",
    "<center><em>Arduino blink example</em></center>"
   ]
  },
  {
   "cell_type": "markdown",
   "metadata": {},
   "source": [
    "##### LED blink code\n",
    "```C++\n",
    "/*\n",
    "  Blink\n",
    "  Turns an LED on for one second, then off for one second, repeatedly.\n",
    "\n",
    "  http://www.arduino.cc/en/Tutorial/Blink\n",
    "  \n",
    "  Thic code is slightly different with reference\n",
    "*/\n",
    "\n",
    "// The LED is connected to pin 9\n",
    "int led = 9; \n",
    "// the setup function runs once when you press reset or power the board\n",
    "void setup() {\n",
    "  // initialize digital pin 9 as an output.\n",
    "  pinMode(led, OUTPUT);\n",
    "}\n",
    "\n",
    "// the loop function runs over and over again forever\n",
    "void loop() {\n",
    "  digitalWrite(led, HIGH);   // turn the LED on (HIGH is the voltage level)\n",
    "  delay(1000);                       // wait for a second\n",
    "  digitalWrite(led, LOW);    // turn the LED off by making the voltage LOW\n",
    "  delay(1000);                       // wait for a second\n",
    "}\n",
    "```"
   ]
  },
  {
   "cell_type": "markdown",
   "metadata": {},
   "source": [
    "### d. Code Verification and Upload\n",
    "<p>\n",
    "<img src=\"./image_files/arduino_blink_upload2.png\" alt=\"Drawing\" style=\"width: 500px;\"/><br>\n",
    "<center>&bull; After writting the your own code, you should verify whether the code is correct with verify button.<br>\n",
    "<img src=\"./image_files/verify.png\" alt=\"Drawing\" style=\"width: 30px;\"/><br>\n",
    "&bull; After verification, you can upload your code with upload button.\n",
    "<img src=\"./image_files/upload.png\" alt=\"Drawing\" style=\"width: 30px;\"/>\n",
    "</center>\n",
    "</p>"
   ]
  },
  {
   "cell_type": "markdown",
   "metadata": {},
   "source": [
    "### e. Code Save\n",
    "\n",
    "<p>\n",
    "<img src=\"./image_files/arduino_filesave1.png\" alt=\"Drawing\" style=\"width: 400px;\"/>\n",
    "</p>\n",
    "<center><em>Arduino code save</em></center>\n",
    "\n",
    "<p>\n",
    "<img src=\"./image_files/arduino_filesave22.png\" alt=\"Drawing\" style=\"width: 450px;\"/>\n",
    "</p>\n",
    "<center><em>Arduino code save</em></center>"
   ]
  },
  {
   "cell_type": "markdown",
   "metadata": {},
   "source": [
    "## 4-2. Fade"
   ]
  },
  {
   "cell_type": "markdown",
   "metadata": {},
   "source": [
    "<p>\n",
    "<img src=\"./image_files/arduino_example.png\" alt=\"Drawing\" style=\"width: 700px;\"/>\n",
    "</p>\n",
    "<center><em>Hardware configuration (same with LED blink example)</em></center>\n",
    "\n",
    "* Hardware requirement\n",
    "    * Arduino board\n",
    "    * LED\n",
    "    * 220 ohm resistor\n",
    "    * hook-up wires\n",
    "    * breadboard"
   ]
  },
  {
   "cell_type": "markdown",
   "metadata": {},
   "source": [
    "* **Arduino connection, code verification, upload and save is same with LED blink example**"
   ]
  },
  {
   "cell_type": "markdown",
   "metadata": {},
   "source": [
    "##### LED fade code"
   ]
  },
  {
   "cell_type": "markdown",
   "metadata": {},
   "source": [
    "```cpp\n",
    "/*\n",
    "  Fade\n",
    "\n",
    "  This example shows how to fade an LED on pin 9 using the analogWrite()\n",
    "  function.\n",
    "\n",
    "  The analogWrite() function uses PWM, so if you want to change the pin you're\n",
    "  using, be sure to use another PWM capable pin. On most Arduino, the PWM pins\n",
    "  are identified with a \"~\" sign, like ~3, ~5, ~6, ~9, ~10 and ~11.\n",
    "*/\n",
    "\n",
    "int led = 9;           // the PWM pin the LED is attached to\n",
    "int brightness = 0;    // how bright the LED is\n",
    "int fadeAmount = 5;    // how many points to fade the LED by\n",
    "\n",
    "// the setup routine runs once when you press reset:\n",
    "void setup() {\n",
    "  // declare pin 9 to be an output:\n",
    "  pinMode(led, OUTPUT);\n",
    "}\n",
    "\n",
    "// the loop routine runs over and over again forever:\n",
    "void loop() {\n",
    "  // set the brightness of pin 9:\n",
    "  analogWrite(led, brightness);\n",
    "\n",
    "  // change the brightness for next time through the loop:\n",
    "  brightness = brightness + fadeAmount;\n",
    "\n",
    "  // reverse the direction of the fading at the ends of the fade:\n",
    "  if (brightness <= 0 || brightness >= 255) {\n",
    "    fadeAmount = -fadeAmount;\n",
    "  }\n",
    "  // wait for 30 milliseconds to see the dimming effect\n",
    "  delay(30);\n",
    "}\n",
    "```"
   ]
  },
  {
   "cell_type": "code",
   "execution_count": 1,
   "metadata": {},
   "outputs": [
    {
     "data": {
      "application/javascript": [
       "\n",
       "$.getScript('https://kmahelona.github.io/ipython_notebook_goodies/ipython_notebook_toc.js')\n"
      ],
      "text/plain": [
       "<IPython.core.display.Javascript object>"
      ]
     },
     "metadata": {},
     "output_type": "display_data"
    }
   ],
   "source": [
    "%%javascript\n",
    "\n",
    "$.getScript('https://kmahelona.github.io/ipython_notebook_goodies/ipython_notebook_toc.js')"
   ]
  }
 ],
 "metadata": {
  "kernelspec": {
   "display_name": "Python 3",
   "language": "python",
   "name": "python3"
  },
  "language_info": {
   "codemirror_mode": {
    "name": "ipython",
    "version": 3
   },
   "file_extension": ".py",
   "mimetype": "text/x-python",
   "name": "python",
   "nbconvert_exporter": "python",
   "pygments_lexer": "ipython3",
   "version": "3.7.2"
  }
 },
 "nbformat": 4,
 "nbformat_minor": 2
}
