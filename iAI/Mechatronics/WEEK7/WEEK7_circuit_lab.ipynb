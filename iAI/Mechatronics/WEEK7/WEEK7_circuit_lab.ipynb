{
 "cells": [
  {
   "cell_type": "markdown",
   "metadata": {},
   "source": [
    "<br>\n",
    "<font size='6'><b>Circuit Lab.</b></font><br><br>\n",
    "\n",
    "<table style=\"border-style: hidden; border-collapse: collapse;\" width = \"80%\"> \n",
    "    <tr style=\"border-style: hidden; border-collapse: collapse;\">\n",
    "        <td width = 50% style=\"border-style: hidden; border-collapse: collapse;\">\n",
    "\n",
    "        </td>\n",
    "        <td width = 20%>\n",
    "        Collected by Seungchul Lee<br>iAI Lab<br>http://iai.postech.ac.kr<br>POSTECH\n",
    "        </td>\n",
    "    </tr>\n",
    "</table>\n",
    "\n",
    "\n",
    "Table of Contents\n",
    "<div id=\"toc\"></div>\n",
    "\n",
    "# 0. Today's Lesson\n",
    "\n",
    "- Practical Purpose\n",
    "    - Construct two basic circuits by applying the circuit theory learned last class.\n",
    "    - Understand the characteristics of different types of swithes (pushbutton type, slide type)\n",
    "\n",
    "- Contents\n",
    "    - Control one LED with one pushbutton switch.\n",
    "    - Control three LEDs with one pushbutton switch and one selector switch.\n",
    "    \n",
    "- __Please submit the following files after today's class.__\n",
    "    - Circuit Diagram you built on the class.\n",
    "    \n",
    "- TA's E-mail : p0125ch@postech.ac.kr\n",
    "    - The title of your mail should be \"[MECH199-01][Drone & RC Car] (Group Name) WEEK7\""
   ]
  },
  {
   "cell_type": "markdown",
   "metadata": {},
   "source": [
    "# 1. Contents\n",
    "## 1.1 Control one LED with one pushbutton switch\n",
    " - Condition\n",
    "     - LED should be __'on'__ only if the pushbutton switch turns __'on'__"
   ]
  },
  {
   "cell_type": "markdown",
   "metadata": {},
   "source": [
    "## 1.2 Control three LEDs with one pushbutton switch and one slide switch\n",
    " - Condition\n",
    "     - LED1 should be __'on'__ only if the pushbutton switch turns __'on'__\n",
    "     - LED2 should be __'on'__ only if the slide switch switch turns __'on'__\n",
    "     - LED3 should be __'on'__ only if both LED1 and LED2 are __'on'__"
   ]
  },
  {
   "cell_type": "code",
   "execution_count": 1,
   "metadata": {},
   "outputs": [
    {
     "data": {
      "application/javascript": [
       "\n",
       "$.getScript('https://kmahelona.github.io/ipython_notebook_goodies/ipython_notebook_toc.js')\n"
      ],
      "text/plain": [
       "<IPython.core.display.Javascript object>"
      ]
     },
     "metadata": {},
     "output_type": "display_data"
    }
   ],
   "source": [
    "%%javascript\n",
    "\n",
    "$.getScript('https://kmahelona.github.io/ipython_notebook_goodies/ipython_notebook_toc.js')"
   ]
  }
 ],
 "metadata": {
  "kernelspec": {
   "display_name": "Python 3",
   "language": "python",
   "name": "python3"
  },
  "language_info": {
   "codemirror_mode": {
    "name": "ipython",
    "version": 3
   },
   "file_extension": ".py",
   "mimetype": "text/x-python",
   "name": "python",
   "nbconvert_exporter": "python",
   "pygments_lexer": "ipython3",
   "version": "3.7.2"
  }
 },
 "nbformat": 4,
 "nbformat_minor": 2
}
