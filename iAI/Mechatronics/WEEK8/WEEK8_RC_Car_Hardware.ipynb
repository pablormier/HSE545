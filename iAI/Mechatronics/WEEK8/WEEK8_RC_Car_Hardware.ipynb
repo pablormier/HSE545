{
 "cells": [
  {
   "cell_type": "markdown",
   "metadata": {},
   "source": [
    "<br>\n",
    "<font size='6'><b>RC Car Practice.</b></font><br><br>\n",
    "\n",
    "<table style=\"border-style: hidden; border-collapse: collapse;\" width = \"80%\"> \n",
    "    <tr style=\"border-style: hidden; border-collapse: collapse;\">\n",
    "        <td width = 50% style=\"border-style: hidden; border-collapse: collapse;\">\n",
    "\n",
    "        </td>\n",
    "        <td width = 20%>\n",
    "        Collected by Seungchul Lee<br>iAI Lab<br>http://iai.postech.ac.kr<br>POSTECH\n",
    "        </td>\n",
    "    </tr>\n",
    "</table>\n",
    "\n",
    "\n",
    "Table of Contents\n",
    "<div id=\"toc\"></div>\n",
    "\n",
    "# 0. Today's Lesson\n",
    "\n",
    "- Practical Purpose\n",
    "    - Build RC Car Frames for validation of Arduino software you programmed\n",
    "- Contents\n",
    "    - Xbee Module\n",
    "    - Circuit\n",
    "    - RC Car Frame\n",
    "- __You don't need to submit any files on today's class.__"
   ]
  },
  {
   "cell_type": "markdown",
   "metadata": {},
   "source": [
    "# 1. Xbee Module\n",
    " - As shown below, confirm the Xbee Shield's jumpers at D2 and D3\n",
    "\n",
    "\n",
    "<img src = \"./image_files/bee_1.JPG\" style=\"border:1px solid black\" width = 700>"
   ]
  },
  {
   "cell_type": "markdown",
   "metadata": {},
   "source": [
    " - As shown below, assemble Bluetooth Bee, Xbee Shield and Arduino Uno\n",
    " \n",
    " \n",
    "<img src = \"./image_files/bee_2.JPG\" style=\"border:1px solid black\" width = 700>"
   ]
  },
  {
   "cell_type": "markdown",
   "metadata": {},
   "source": [
    "# 2. Circuit\n",
    " - Arduino\n",
    "\n",
    "\n",
    "<img src = \"./image_files/arduino.PNG\" style=\"border:1px solid black\" width = 700>"
   ]
  },
  {
   "cell_type": "markdown",
   "metadata": {},
   "source": [
    " - JMOD-MOTOR Driver\n",
    "\n",
    "\n",
    "<img src = \"./image_files/motor_driver_circuit.PNG\" style=\"border:1px solid black\" width = 700>"
   ]
  },
  {
   "cell_type": "markdown",
   "metadata": {},
   "source": [
    " - Breadboard\n",
    " \n",
    " \n",
    " <img src = \"./image_files/circuit.PNG\" style=\"border:1px solid black\" width = 700>"
   ]
  },
  {
   "cell_type": "markdown",
   "metadata": {},
   "source": [
    " - Motor driver reference for your information\n",
    "\n",
    "\n",
    "<img src = \"./image_files/motor_driver_info.PNG\" style=\"border:1px solid black\" width = 700>"
   ]
  },
  {
   "cell_type": "markdown",
   "metadata": {},
   "source": [
    "# 3. RC Car Frame"
   ]
  },
  {
   "cell_type": "markdown",
   "metadata": {},
   "source": [
    " - As shown below, assemble motor, car frame and wheel\n",
    "     - Pay attention to the left and right position of the + (red) - (black) wire when attaching the motor.\n",
    "     - [On wooden plate side, On ground side]\n",
    "     - 1: [red, black]  2: [black, red]  3: [black, red]  4: [red, black]\n",
    "<img src = \"./image_files/motor_number.jpg\" style=\"border:1px solid black\" width = 700>"
   ]
  },
  {
   "cell_type": "markdown",
   "metadata": {},
   "source": [
    " - On the ground side, screw a bolt with nut and on the wooden plate side, screw a bolt loosely without nut.\n",
    "\n",
    "<img src = \"./image_files/bolt.png\" style=\"border:1px solid black\" width = 700>"
   ]
  },
  {
   "cell_type": "code",
   "execution_count": 1,
   "metadata": {},
   "outputs": [],
   "source": [
    "%%javascript\n",
    "\n",
    "$.getScript('https://kmahelona.github.io/ipython_notebook_goodies/ipython_notebook_toc.js')"
   ]
  }
 ],
 "metadata": {
  "hide_input": false,
  "kernelspec": {
   "display_name": "Python 3",
   "language": "python",
   "name": "python3"
  },
  "language_info": {
   "codemirror_mode": {
    "name": "ipython",
    "version": 3
   },
   "file_extension": ".py",
   "mimetype": "text/x-python",
   "name": "python",
   "nbconvert_exporter": "python",
   "pygments_lexer": "ipython3",
   "version": "3.7.2"
  },
  "toc": {
   "base_numbering": 1,
   "nav_menu": {},
   "number_sections": false,
   "sideBar": true,
   "skip_h1_title": false,
   "title_cell": "Table of Contents",
   "title_sidebar": "Contents",
   "toc_cell": false,
   "toc_position": {},
   "toc_section_display": true,
   "toc_window_display": false
  },
  "varInspector": {
   "cols": {
    "lenName": 16,
    "lenType": 16,
    "lenVar": 40
   },
   "kernels_config": {
    "python": {
     "delete_cmd_postfix": "",
     "delete_cmd_prefix": "del ",
     "library": "var_list.py",
     "varRefreshCmd": "print(var_dic_list())"
    },
    "r": {
     "delete_cmd_postfix": ") ",
     "delete_cmd_prefix": "rm(",
     "library": "var_list.r",
     "varRefreshCmd": "cat(var_dic_list()) "
    }
   },
   "types_to_exclude": [
    "module",
    "function",
    "builtin_function_or_method",
    "instance",
    "_Feature"
   ],
   "window_display": false
  }
 },
 "nbformat": 4,
 "nbformat_minor": 2
}
