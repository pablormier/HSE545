{
 "cells": [
  {
   "cell_type": "markdown",
   "metadata": {},
   "source": [
    "<br>\n",
    "<font size='6'><b>RC Car Software</b></font><br><br>\n",
    "\n",
    "<table style=\"border-style: hidden; border-collapse: collapse;\" width = \"80%\"> \n",
    "    <tr style=\"border-style: hidden; border-collapse: collapse;\">\n",
    "        <td width = 50% style=\"border-style: hidden; border-collapse: collapse;\">\n",
    "\n",
    "        </td>\n",
    "        <td width = 20%>\n",
    "        Collected by Seungchul Lee<br>iAI Lab<br>http://iai.postech.ac.kr<br>POSTECH\n",
    "        </td>\n",
    "    </tr>\n",
    "</table>\n",
    "\n",
    "\n",
    "Table of Contents\n",
    "<div id=\"toc\"></div>\n",
    "\n",
    "# 0. Today's Lesson\n",
    "\n",
    "- Let's move out\n",
    "    - Drive Motor\n",
    "    - change speed and direction\n",
    "- Modulize\n",
    "    - create functions\n",
    "    - create scinario\n",
    "- Add LED Function\n",
    "\n",
    "- Please submit the following files after today's class.\n",
    "    - ipynb files\n",
    "    - Demonstration videos of your drone and LEDs\n",
    "    - TA's E-mail : p0125ch@postech.ac.kr\n",
    "    - The title of your mail should be \"[MECH199-01][Drone & RC Car] (Group Name) WEEK9\""
   ]
  },
  {
   "cell_type": "markdown",
   "metadata": {},
   "source": [
    "# 1. Let's move out"
   ]
  },
  {
   "cell_type": "markdown",
   "metadata": {},
   "source": [
    "### Drive Motor\n",
    "Now, Let's drive motors you connected last session.  \n",
    "In this class, each two motors on left and right drive together.\n",
    "\n",
    "\n",
    "First, set pinMode for each pin of motor drive from datasheet\n",
    "<img src = \"./image_files/motor_driver_info.PNG\" style=\"border:1px solid black\" width = 700>\n",
    "\n",
    "```cpp\n",
    "// arduino code\n",
    "int PIN_STNB = 3\n",
    "int PIN_AIN1 = 4\n",
    "int PIN_AIN2 = 5\n",
    "int PIN_PWMA = 6\n",
    "// and so on\n",
    "\n",
    "void setup(){\n",
    "    pinMode(PIN_STNB, OUTPUT);\n",
    "    pinMode(PIN_AIN1, OUTPUT);\n",
    "    pinMode(PIN_AIN2, OUTPUT);\n",
    "    pinMode(PIN_PWMA, OUTPUT);\n",
    "    // and so on\n",
    "}\n",
    "    \n",
    "```\n",
    "Drive motors with proper writes for pins\n",
    "```cpp\n",
    "void loop(){\n",
    "    digitalWrite(PIN_STNB, HIGH);\n",
    "    digitalWrite(PIN_AIN1, HIGH);\n",
    "    digitalWrite(PIN_AIN2, LOW);\n",
    "    analogWrite(PIN_PWMA, 255);\n",
    "    // and so on\n",
    "}\n",
    "```\n"
   ]
  },
  {
   "cell_type": "markdown",
   "metadata": {},
   "source": [
    "### Change Speed and Direction\n",
    "Try to adjust speed and steering of RC car with your own code."
   ]
  },
  {
   "cell_type": "markdown",
   "metadata": {
    "collapsed": true
   },
   "source": [
    "# 2. Modulize"
   ]
  },
  {
   "cell_type": "markdown",
   "metadata": {},
   "source": [
    "### Create Functions\n",
    "Create functions for 8-way move. LEFT and RIGHT be replaced with TURNCW and TURNCCW.\n",
    "Each functions should have parameters to adjust speed or direction(how much rotate).\n",
    "\n",
    "```cpp\n",
    "void FORWARD(int speed){\n",
    "  digitalWrite( , );\n",
    "  digitalWrite( , );\n",
    "  analogWrite( , speed);\n",
    "  // fill your code\n",
    "}\n",
    "void FORWARD_LEFT(int speed, int direction){\n",
    "  digitalWrite( , );\n",
    "  digitalWrite( , );\n",
    "  analogWrite( , speed);\n",
    "  // fill your code\n",
    "}\n",
    "```\n",
    "  \n",
    "  \n",
    "or you can use speed of left / right motors as parameter of FORWARD_LEFT  \n",
    "  \n",
    "  \n",
    "```cpp\n",
    "void FORWARD_LEFT(int left_spd, int right_spd){\n",
    "  digitalWrite( , );\n",
    "  digitalWrite( , );\n",
    "  analogWrite( , speed);\n",
    "  // fill your code\n",
    "}\n",
    "```"
   ]
  },
  {
   "cell_type": "markdown",
   "metadata": {},
   "source": [
    "### Create scinario\n",
    "\n",
    "Make sequence of motions with function you made.  \n",
    "delay(milliseconds); function of ArduinoIDE may useful.\n",
    "\n",
    "```cpp\n",
    "void loop(){\n",
    "    FORWARD(150);\n",
    "    delay(1000);\n",
    "    FORWARD_LEFT(100, 45);\n",
    "    delay(1000);\n",
    "    // fill your code\n",
    "}\n",
    "```"
   ]
  },
  {
   "cell_type": "markdown",
   "metadata": {},
   "source": [
    "# 3. Add LED Function"
   ]
  },
  {
   "cell_type": "markdown",
   "metadata": {},
   "source": [
    "Should a car tail lights up when back up?  \n",
    "Write your code for LEDs with your own logic."
   ]
  },
  {
   "cell_type": "code",
   "execution_count": 1,
   "metadata": {},
   "outputs": [
    {
     "data": {
      "application/javascript": [
       "\n",
       "$.getScript('https://kmahelona.github.io/ipython_notebook_goodies/ipython_notebook_toc.js')\n"
      ],
      "text/plain": [
       "<IPython.core.display.Javascript object>"
      ]
     },
     "metadata": {},
     "output_type": "display_data"
    }
   ],
   "source": [
    "%%javascript\n",
    "\n",
    "$.getScript('https://kmahelona.github.io/ipython_notebook_goodies/ipython_notebook_toc.js')"
   ]
  }
 ],
 "metadata": {
  "hide_input": false,
  "kernelspec": {
   "display_name": "Python 3",
   "language": "python",
   "name": "python3"
  },
  "language_info": {
   "codemirror_mode": {
    "name": "ipython",
    "version": 3
   },
   "file_extension": ".py",
   "mimetype": "text/x-python",
   "name": "python",
   "nbconvert_exporter": "python",
   "pygments_lexer": "ipython3",
   "version": "3.5.2"
  },
  "toc": {
   "base_numbering": 1,
   "nav_menu": {},
   "number_sections": false,
   "sideBar": true,
   "skip_h1_title": false,
   "title_cell": "Table of Contents",
   "title_sidebar": "Contents",
   "toc_cell": false,
   "toc_position": {},
   "toc_section_display": true,
   "toc_window_display": false
  },
  "varInspector": {
   "cols": {
    "lenName": 16,
    "lenType": 16,
    "lenVar": 40
   },
   "kernels_config": {
    "python": {
     "delete_cmd_postfix": "",
     "delete_cmd_prefix": "del ",
     "library": "var_list.py",
     "varRefreshCmd": "print(var_dic_list())"
    },
    "r": {
     "delete_cmd_postfix": ") ",
     "delete_cmd_prefix": "rm(",
     "library": "var_list.r",
     "varRefreshCmd": "cat(var_dic_list()) "
    }
   },
   "types_to_exclude": [
    "module",
    "function",
    "builtin_function_or_method",
    "instance",
    "_Feature"
   ],
   "window_display": false
  }
 },
 "nbformat": 4,
 "nbformat_minor": 2
}
